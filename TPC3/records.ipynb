{
 "cells": [
  {
   "cell_type": "code",
   "execution_count": 1,
   "metadata": {},
   "outputs": [],
   "source": [
    "import re\n",
    "import os\n",
    "import json"
   ]
  },
  {
   "cell_type": "code",
   "execution_count": 2,
   "metadata": {},
   "outputs": [],
   "source": [
    "def readFile(filename):\n",
    "\n",
    "    with open(filename) as file:\n",
    "        lines = file.readlines()\n",
    "\n",
    "    return lines\n",
    "\n",
    "parsed_data = readFile('processos.txt')"
   ]
  },
  {
   "cell_type": "code",
   "execution_count": 3,
   "metadata": {},
   "outputs": [],
   "source": [
    "def correctData(lines: list[str]) -> list[str]:\n",
    "\n",
    "    new_lines: list[str] = []\n",
    "    expressionFlag = re.compile(r'[\\s\\.]\\s\\s')\n",
    "\n",
    "    for line in lines:\n",
    "        match = re.search(expressionFlag, line)\n",
    "        if match:\n",
    "            start_index = match.start()\n",
    "            end_index = match.end()\n",
    "            id = line[:3]\n",
    "            date = line[5:14]\n",
    "            previous_line = line[:start_index].rstrip()\n",
    "            new_line = id + \"::\" + date + \"::\" + \\\n",
    "                line[end_index:].rstrip() + \"::\"\n",
    "            new_line = re.sub(r'\\s\\s\\s', os.linesep, new_line)\n",
    "            new_lines.append(previous_line)\n",
    "            new_lines.append(new_line)\n",
    "        else:\n",
    "            new_lines.append(line.rstrip())\n",
    "\n",
    "    return new_lines\n",
    "\n",
    "parsed_data = correctData(parsed_data)"
   ]
  },
  {
   "cell_type": "code",
   "execution_count": 4,
   "metadata": {},
   "outputs": [],
   "source": [
    "def parseInfo(lines: list[str]) -> list[dict]:\n",
    "\n",
    "    data = []\n",
    "\n",
    "    pattern = re.compile(\n",
    "        r'(?P<folder>\\d*)::(?P<date>\\d{4}-\\d{2}-\\d{2})::(?P<name>.+?)::(?P<father>.*?)::(?P<mother>.*?)::(?P<observations>[^,\\n]*(?:,(?P<family>[^,.\\n]*)\\.)?.*)::')\n",
    "\n",
    "    familiy_restriction = re.compile(r'\\w+ ?\\w* ?\\w*')\n",
    "    family_names_restriction = ['Sao', 'Santa', 'Santiago', 'Frei']\n",
    "\n",
    "    for line in lines:\n",
    "        match = re.search(pattern, line)\n",
    "        if match:\n",
    "            info = match.groupdict()\n",
    "            if info['family'] is None and info['observations'] is not None:\n",
    "                observations = info['observations'].split(',')\n",
    "                valid_content = observations[-1].split('.')[0]\n",
    "                if valid_content:\n",
    "                    info['family'] = valid_content\n",
    "            if info['family'] is not None:\n",
    "                if re.match(familiy_restriction, info['family']) and not any(info['family'].startswith(name) for name in family_names_restriction):\n",
    "                    data.append(info)\n",
    "            else:\n",
    "                data.append(info)\n",
    "\n",
    "    return data\n",
    "\n",
    "parsed_data = parseInfo(parsed_data)"
   ]
  },
  {
   "cell_type": "code",
   "execution_count": 5,
   "metadata": {},
   "outputs": [
    {
     "name": "stdout",
     "output_type": "stream",
     "text": [
      "Loading results...\n",
      "{'1894': 72, '1909': 39, '1896': 76, '1904': 52, '1901': 58, '1883': 34, '1900': 50, '1902': 80, '1880': 54, '1889': 67, '1908': 52, '1906': 62, '1856': 62, '1892': 56, '1733': 957, '1778': 765, '1899': 78, '1869': 22, '1898': 88, '1877': 36, '1910': 28, '1907': 48, '1884': 39, '1879': 51, '1897': 69, '1730': 974, '1707': 98, '1689': 552, '1713': 226, '1824': 188, '1691': 810, '1720': 148, '1890': 42, '1732': 1802, '1863': 19, '1895': 76, '1729': 32, '1694': 38, '1765': 5, '1754': 250, '1755': 263, '1823': 159, '1708': 130, '1759': 73, '1683': 126, '1712': 56, '1687': 81, '1704': 263, '1888': 67, '1786': 269, '1798': 48, '1773': 368, '1821': 227, '1822': 232, '1809': 217, '1734': 761, '1722': 409, '1680': 148, '1738': 141, '1728': 396, '1716': 207, '1849': 97, '1777': 766, '1703': 123, '1851': 52, '1717': 232, '1785': 639, '1857': 63, '1686': 155, '1881': 62, '1784': 281, '1727': 111, '1719': 331, '1799': 83, '1829': 125, '1847': 100, '1787': 575, '1805': 90, '1819': 186, '1844': 141, '1891': 69, '1731': 787, '1760': 220, '1741': 22, '1699': 84, '1725': 240, '1802': 69, '1885': 9, '1807': 412, '1710': 168, '1692': 188, '1706': 94, '1858': 35, '1684': 200, '1739': 52, '1714': 264, '1762': 275, '1724': 92, '1697': 24, '1852': 60, '1855': 68, '1723': 107, '1685': 197, '1690': 225, '1905': 41, '1893': 77, '1865': 32, '1911': 17, '1882': 47, '1735': 130, '1871': 23, '1903': 21, '1850': 100, '1812': 167, '1701': 98, '1746': 41, '1715': 73, '1803': 117, '1830': 131, '1761': 307, '1766': 9, '1672': 18, '1876': 28, '1698': 129, '1726': 76, '1679': 77, '1826': 139, '1711': 55, '1810': 40, '1756': 54, '1721': 115, '1825': 118, '1873': 29, '1831': 148, '1781': 158, '1780': 155, '1818': 157, '1859': 54, '1816': 231, '1783': 235, '1752': 64, '1817': 146, '1827': 73, '1747': 46, '1771': 24, '1700': 73, '1682': 91, '1794': 49, '1743': 46, '1845': 94, '1742': 16, '1788': 353, '1887': 41, '1836': 4, '1868': 15, '1750': 44, '1688': 101, '1702': 118, '1709': 134, '1811': 164, '1751': 83, '1681': 92, '1678': 8, '1770': 19, '1673': 20, '1796': 79, '1828': 131, '1736': 39, '1696': 36, '1886': 41, '1853': 65, '1860': 52, '1718': 75, '1839': 59, '1740': 8, '1843': 216, '1776': 30, '1804': 83, '1772': 88, '1774': 35, '1832': 215, '1806': 83, '1854': 96, '1848': 104, '1833': 146, '1737': 48, '1841': 33, '1695': 32, '1820': 193, '1872': 29, '1874': 36, '1867': 36, '1878': 53, '1782': 115, '1693': 25, '1705': 70, '1838': 8, '1862': 24, '1797': 42, '1846': 68, '1660': 2, '1748': 41, '1861': 48, '1864': 46, '1870': 9, '1792': 36, '1875': 10, '1808': 203, '1779': 141, '1744': 33, '1800': 94, '1655': 3, '1795': 43, '1840': 26, '1764': 20, '1763': 28, '1676': 8, '1866': 23, '1753': 31, '1842': 25, '1671': 15, '1801': 52, '1757': 21, '1814': 12, '1768': 19, '1749': 25, '1775': 24, '1745': 32, '1834': 12, '1793': 36, '1815': 25, '1665': 3, '1635': 2, '1616': 2, '1791': 5, '1758': 17, '1631': 3, '1664': 6, '1789': 11, '1623': 4, '1767': 10, '1675': 10, '1666': 7, '1663': 4, '1674': 4, '1668': 6, '1630': 5, '1628': 8, '1813': 9, '1670': 4, '1633': 3, '1632': 4, '1669': 3, '1667': 2, '1634': 2, '1625': 3, '1656': 2, '1769': 8, '1620': 2, '1629': 2, '1622': 2, '1677': 3, '1627': 3, '1790': 2, '1650': 2, '1662': 2}\n"
     ]
    }
   ],
   "source": [
    "def recordsPerYear(data: list[dict]):\n",
    "\n",
    "    print(\"Loading results...\")\n",
    "\n",
    "    years_dict = dict()\n",
    "    counter = 1\n",
    "    current_year: str\n",
    "\n",
    "    for i, element in enumerate(data):\n",
    "        current_year = (element['date'])[:4]\n",
    "\n",
    "        for next_indexes in range(i, len(data)):\n",
    "            if current_year == ((data[next_indexes])['date'])[:4]:\n",
    "                counter += 1\n",
    "\n",
    "        if years_dict.get(current_year) is None or counter > years_dict[current_year]:\n",
    "            years_dict[current_year] = counter\n",
    "\n",
    "        counter = 1\n",
    "\n",
    "    return years_dict\n",
    "\n",
    "years_dict = recordsPerYear(parsed_data)\n",
    "print(years_dict)"
   ]
  },
  {
   "cell_type": "code",
   "execution_count": 6,
   "metadata": {},
   "outputs": [
    {
     "name": "stdout",
     "output_type": "stream",
     "text": [
      "Loading results...\n",
      "{15: [('Manuel', 5060), ('Antonio', 4169), ('Joao', 3961), ('Jose', 3810), ('Francisco', 2627)], 16: [('Manuel', 5066), ('Antonio', 4168), ('Joao', 3964), ('Jose', 3812), ('Francisco', 2626)], 17: [('Manuel', 5054), ('Antonio', 4167), ('Joao', 3965), ('Jose', 3811), ('Francisco', 2622)], 18: [('Manuel', 5012), ('Antonio', 4162), ('Joao', 3944), ('Jose', 3569), ('Francisco', 2477)], 19: []}\n"
     ]
    }
   ],
   "source": [
    "def recordsStatsFirstNamePerCentury(data: list[dict]):\n",
    "\n",
    "    print(\"Loading results...\")\n",
    "\n",
    "    century_dict = {century: set() for century in range(15, 20)}\n",
    "    counter = 1\n",
    "    current_year: str\n",
    "    current_name: tuple(str, int)\n",
    "    visited_names = []\n",
    "\n",
    "    for i, element in enumerate(data):\n",
    "\n",
    "        current_year = (element['date'])[:4]\n",
    "        century = (int(current_year[:2]) - 1)\n",
    "\n",
    "        current_name = (element['name']).split()[0]\n",
    "        verification_tuple = (current_name, century)\n",
    "        if verification_tuple not in visited_names:\n",
    "            visited_names.append((current_name, century))\n",
    "            for next_indexes in range(i, len(data)):\n",
    "                if current_name == ((data[next_indexes])['name']).split()[0]:\n",
    "                    counter += 1\n",
    "\n",
    "        if (century_dict.get(century) is None or\n",
    "                counter > century_dict.get((current_name, century), (0, 0))[1] or current_name in [name for name in century_dict.get(century, set())]):\n",
    "            current_name = (current_name, counter)\n",
    "            century_dict[century].add(current_name)\n",
    "\n",
    "        counter = 1\n",
    "\n",
    "    for element in century_dict:\n",
    "        century_dict[element] = sorted(\n",
    "            century_dict[element], key=lambda x: x[1], reverse=True)\n",
    "        century_dict[element] = (century_dict[element])[:5]\n",
    "\n",
    "    return century_dict\n",
    "\n",
    "first_name_century_dict = recordsStatsFirstNamePerCentury(parsed_data)\n",
    "print(first_name_century_dict)\n"
   ]
  },
  {
   "cell_type": "code",
   "execution_count": 7,
   "metadata": {},
   "outputs": [
    {
     "name": "stdout",
     "output_type": "stream",
     "text": [
      "Loading results...\n",
      "{15: [('Manuel', 5066), ('Joao', 3965), ('Francisco', 2627), ('Luis', 761), ('Gaspar', 163)], 16: [('Manuel', 5066), ('Joao', 3965), ('Jose', 3812), ('Francisco', 2627), ('Antonio', 1459)], 17: [('Manuel', 5066), ('Joao', 3965), ('Jose', 3812), ('Francisco', 2627), ('Luis', 761)], 18: [('Matias', 99), ('Santos', 24), ('Roque', 21), ('Lino', 14), ('Gomes', 2)], 19: []}\n"
     ]
    }
   ],
   "source": [
    "def recordsStatsLastNamePerCentury(data: list[dict]):\n",
    "    print(\"Loading results...\")\n",
    "\n",
    "    century_dict = {century: set() for century in range(15, 20)}\n",
    "    counter = 1\n",
    "    current_year: str\n",
    "    current_name: tuple(str, int)\n",
    "    visited_names = []\n",
    "\n",
    "    for i, element in enumerate(data):\n",
    "\n",
    "        current_year = (element['date'])[:4]\n",
    "        century = (int(current_year[:2]) - 1)\n",
    "\n",
    "        current_name = (element['name']).split()[-1]\n",
    "        verification_tuple = (current_name, century)\n",
    "        if verification_tuple not in visited_names:\n",
    "            visited_names.append((current_name, century))\n",
    "            for next_indexes in range(i, len(data)):\n",
    "                if current_name == ((data[next_indexes])['name']).split()[0]:\n",
    "                    counter += 1\n",
    "\n",
    "        if (century_dict.get(century) is None or\n",
    "                counter > century_dict.get((current_name, century), (0, 0))[1] or current_name in [name for name in century_dict.get(century, set())]):\n",
    "            current_name = (current_name, counter)\n",
    "            century_dict[century].add(current_name)\n",
    "\n",
    "        counter = 1\n",
    "\n",
    "    for element in century_dict:\n",
    "        century_dict[element] = sorted(\n",
    "            century_dict[element], key=lambda x: x[1], reverse=True)\n",
    "        century_dict[element] = (century_dict[element])[:5]\n",
    "\n",
    "    return century_dict\n",
    "\n",
    "last_name_century_dict = recordsStatsLastNamePerCentury(parsed_data)\n",
    "print(last_name_century_dict)"
   ]
  },
  {
   "cell_type": "code",
   "execution_count": 12,
   "metadata": {},
   "outputs": [
    {
     "name": "stdout",
     "output_type": "stream",
     "text": [
      "Loading results...\n",
      "{'Irmao': 14321908, 'Sobrinho Materno': 14321910, 'Tio Materno': 14321909, 'Sobrinho Paterno': 14320759, 'Filho': 14321709, 'Sobrinhos Paternos': 14321872, 'Tio Paterno': 14319025, 'Sobrinho Neto Paterno': 14306318, 'Irmaos': 14320807, 'Primo': 14320899, 'Sobrinho Bisneto Paterno': 14082590, 'Irmao Materno': 14317844, 'Exposto': 14252844, 'Pai': 14321708, 'Arvore Genealogica': 14288303, 'Sobrinho Neto Materno': 14250213, 'Irmao Paterno': 14321570, 'Foi Arcebispo Primaz de Braga': 1067299, 'Fundo Jose Gomes': 10476793, 'Hoje BANHO E CARVALHOSA': 14300513, 'Antes do Crisma era SILVESTRE': 2063295, 'Autos Carta Rogatoria vinda do Bispado do Porto': 2507220, 'Neto Paterno': 14198904, 'Primo Materno': 14255475, 'Primo Paterno': 14315606, 'O Pai tambem aparece como Domingos Lourenco Eiras': 2935055, 'Primos': 13122194, 'Filhos': 14321543, 'Tem Impedimento': 3477393, 'Tios Paternos': 11589853, 'Irmao da Congregacao do Oratorio da cidade de Viseu': 3920548, 'Assistente no Porto': 4187526, 'Assistente em Evora': 4451542, 'Assistente em Guimaraes': 4842063, 'Assistente em Lisboa': 6965348, 'Assistente no Brasil': 8827663, 'Neto Materno': 14266360, 'Nossa Senhora Conceicao': 11462700, 'Irmaos Paternos': 5977531, 'Ou Matias Pereira Soares': 5788192, 'Carta Precatoria vinda da Diocese de Braganca': 6076731, 'Assistente em INDIA-GOA': 6103486, 'Tio Avo Materno': 10366876, 'Assistente em Braga': 11271580, 'Assistente no Arcebispado de Lisboa': 6271480, 'Sobrinhos Maternos': 14218102, 'Viuvo de Maria Santos': 6372115, 'Foi assistente em Cidade Rodrigo-Salamanca-Espanha': 6468034, 'Atestado': 6595076, 'Justificacao': 6698938, 'Residente no Porto': 6836206, 'Avo Materno': 11072065, 'Tio Avo Paterno': 13904119, 'Exposto na Roda da cidade de Braga': 7221354, 'Residente na Curia Romana': 7252584, 'Viuvo que ficou de Maria Fernandes': 7593157, 'Assistente em Roma': 7608521, 'Foi exposto com o nome de FRANCISCO PAULO': 8044550, 'Frade no Convento de Santo Antonio de Ponte de Lima': 8446236, 'Parente': 8694897, 'Exposto no Cabido de Santa Ana': 8698179, 'Ausente em Lisboa': 8701460, 'Congregado no Oratorio da Vila de Freixo Espada Cinta': 8837960, 'Tio Bisavo Paterno': 9172114, 'Assistente na cidade de Lisboa': 9310942, 'Avo Paterno': 12189103, 'Viuvo que ficou de Barbara Francisca': 10201119, 'Irmao da Congregacao do Oratorio de Braga': 13182261, 'Assistente na cidade de Evora': 10480002, 'Residente em Barcelos': 10491281, 'Assistente na cidade do Porto': 10707755, 'Sargento Mor de Artilharia da Ilha da Madeira': 10831913, 'Carta Rogatoria vinda do Bispado de Lisboa': 11183369, 'Antes do Crisma Custodio': 11286651, 'Exposto na Roda da Se': 11294172, 'Uma Sentenca': 11537673, 'E so um Requerimento': 11587422, 'em 1854/04/29': 11868467, 'Assistente nos Estados da America': 12041664, 'Tem Escritura de Legitimacao': 12172284, 'Assistente em Barcelos': 12219977, 'Exposto na Roda': 12251224, 'Exposto na Roda da cidade do Porto': 12434561, 'Residente em Leiria': 12544982, 'Pais incognitos': 13009143, 'Irmao da Congregacao do Oratorio de Freixo de Espada a Cinta': 13188368, 'Irmaos Maternos': 13232547, 'Exposto com o nome de Manuel Antonio Nossa Senhora': 13716753, 'Sobrinho Bisneto Materno': 13746451, 'Beneficiado na Igreja Matriz de PONTE LIMA': 14116393, 'Tio Avo': 14203853, 'Fundador do Santuario do Sameiro': 14208787, 'Ou Custodio Pereira Soares': 14223648, 'Sobrinhos Netos Maternos': 14257705, 'Residente em Braga': 14287264, 'Desenhador do livro \"MAPA DAS RUAS DE BRAGA\"': 14299463, 'Residente em Guimaraes': 14302728, 'Casado': 14312332, 'Viuvo de Ana Pimentel Barbosa': 14315035, 'Viuvo': 14321729}\n"
     ]
    }
   ],
   "source": [
    "def recordsFamilyStats(data: list[dict]):\n",
    "\n",
    "    print(\"Loading results...\")\n",
    "\n",
    "    family_dict = dict()\n",
    "    counter = 1\n",
    "    family_degree: str\n",
    "    restriction = re.compile(r'\\w+ ?\\w* ?\\w*')\n",
    "    names_restriction = ['Em', 'Ver', 'Doc', 'Embargo', 'Para', 'Fundador' 'Foi']\n",
    "\n",
    "    for i, element in enumerate(data):\n",
    "        family_degree = element['family']\n",
    "\n",
    "        if family_degree is not None and re.match(restriction, family_degree) and not any(family_degree.startswith(name) for name in names_restriction):\n",
    "            for next_indexes in range(i, len(data)):\n",
    "                if family_degree == (data[next_indexes])['family']:\n",
    "                    counter += 1\n",
    "\n",
    "            if family_dict.get(family_degree) is None or counter > family_dict[family_degree]:\n",
    "                family_dict[family_degree] = counter\n",
    "\n",
    "    return family_dict\n",
    "\n",
    "family_dict = recordsFamilyStats(parsed_data)\n",
    "print(family_dict)"
   ]
  },
  {
   "cell_type": "code",
   "execution_count": 13,
   "metadata": {},
   "outputs": [
    {
     "name": "stdout",
     "output_type": "stream",
     "text": [
      "JSON file created successfully!\n"
     ]
    }
   ],
   "source": [
    "def recordsToJSON(data: list[dict]):\n",
    "\n",
    "    try:\n",
    "        output = data[:20]\n",
    "        with open('processos.json', 'w') as file:\n",
    "            json.dump(output, file, indent=4)\n",
    "        print(\"JSON file created successfully!\")\n",
    "    except Exception as e:\n",
    "        print(e)\n",
    "\n",
    "recordsToJSON(parsed_data)"
   ]
  }
 ],
 "metadata": {
  "kernelspec": {
   "display_name": "Python 3",
   "language": "python",
   "name": "python3"
  },
  "language_info": {
   "codemirror_mode": {
    "name": "ipython",
    "version": 3
   },
   "file_extension": ".py",
   "mimetype": "text/x-python",
   "name": "python",
   "nbconvert_exporter": "python",
   "pygments_lexer": "ipython3",
   "version": "3.11.2"
  },
  "orig_nbformat": 4
 },
 "nbformat": 4,
 "nbformat_minor": 2
}
