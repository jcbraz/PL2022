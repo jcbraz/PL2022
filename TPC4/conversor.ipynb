{
 "cells": [
  {
   "cell_type": "code",
   "execution_count": 5,
   "metadata": {},
   "outputs": [],
   "source": [
    "import re\n",
    "import numpy as np\n",
    "import json"
   ]
  },
  {
   "cell_type": "code",
   "execution_count": 3,
   "metadata": {},
   "outputs": [],
   "source": [
    "filename = input(\"Insert file name to read: \\n\")\n",
    "\n",
    "with open(filename) as file:\n",
    "    data = file.readlines()\n",
    "\n",
    "header = data[0]\n",
    "content = data[1:]"
   ]
  },
  {
   "cell_type": "code",
   "execution_count": 7,
   "metadata": {},
   "outputs": [],
   "source": [
    "header_pattern = re.compile(\n",
    "    r\"Número,Nome,Curso(,?Notas?(?P<Notas>{\\d,\\d})?(?:::)?(?P<agregator>\\w*)?(?:.*))?\")\n",
    "content_pattern = re.compile(\n",
    "    r\"(?P<Número>\\d*),(?P<Nome>.*[^\\W\\d_]),(?P<curso>.*[^\\W\\d_]),?(?P<Notas>[\\d,]*)?\\n?\")"
   ]
  },
  {
   "cell_type": "code",
   "execution_count": 8,
   "metadata": {},
   "outputs": [],
   "source": [
    "header_match = re.search(header_pattern, header)\n",
    "limit = (0, 0)\n",
    "hasAgragator = False\n",
    "\n",
    "\n",
    "if header_match:\n",
    "    info_header = header_match.groupdict()\n",
    "    hasAgragator = True if info_header.get('agregator') else False\n",
    "\n",
    "    if info_header['Notas'] is not None:\n",
    "        if ',' not in info_header['Notas']:\n",
    "            limit = (int((info_header['Notas'])[1]),\n",
    "                     int((info_header['Notas'])[1]))\n",
    "        else:\n",
    "            limit = (int((info_header['Notas'])[1]),\n",
    "                     int((info_header['Notas'])[-2]))\n"
   ]
  },
  {
   "cell_type": "code",
   "execution_count": 9,
   "metadata": {},
   "outputs": [],
   "source": [
    "data_dict = dict()\n",
    "grades_list = []\n",
    "store = 0\n",
    "\n",
    "for line in content:\n",
    "    content_match = re.fullmatch(content_pattern, line)\n",
    "\n",
    "    if content_pattern:\n",
    "        info_content = content_match.groupdict()\n",
    "        grades_list = list(filter(str.strip, info_content['Notas'].split(',')))\n",
    "        if limit[0] <= len(grades_list) <= limit[1]:\n",
    "            if hasAgragator:\n",
    "                agregator_type = info_header['agregator']\n",
    "                if agregator_type == 'sum':\n",
    "                    for num in grades_list:\n",
    "                        store += int(num)\n",
    "                    info_content['Notas'] = store\n",
    "                elif agregator_type == 'media':\n",
    "                    tmp = []\n",
    "                    for i, num in enumerate(grades_list):\n",
    "                        tmp.append(int(num))\n",
    "\n",
    "                    info_content['Notas'] = np.average(tmp)\n",
    "            \n",
    "            data_dict[info_content['Número']] = info_content\n"
   ]
  },
  {
   "cell_type": "code",
   "execution_count": 10,
   "metadata": {},
   "outputs": [
    {
     "name": "stdout",
     "output_type": "stream",
     "text": [
      "JSON file created sucessfully!\n"
     ]
    }
   ],
   "source": [
    "try:\n",
    "    output = data_dict\n",
    "    with open('alunos.json', 'w') as file:\n",
    "        json.dump(output, file, indent=4)\n",
    "    print('JSON file created sucessfully!')\n",
    "except Exception as e:\n",
    "    print(e)"
   ]
  }
 ],
 "metadata": {
  "kernelspec": {
   "display_name": "Python 3",
   "language": "python",
   "name": "python3"
  },
  "language_info": {
   "codemirror_mode": {
    "name": "ipython",
    "version": 3
   },
   "file_extension": ".py",
   "mimetype": "text/x-python",
   "name": "python",
   "nbconvert_exporter": "python",
   "pygments_lexer": "ipython3",
   "version": "3.11.2"
  },
  "orig_nbformat": 4
 },
 "nbformat": 4,
 "nbformat_minor": 2
}
