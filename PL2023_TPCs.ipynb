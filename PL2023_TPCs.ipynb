{
  "cells": [
    {
      "cell_type": "markdown",
      "metadata": {
        "id": "E3nUK-2PqERR"
      },
      "source": [
        "#Enunciados dos Trabalhos para Casa (TPC)\n",
        "da UC de **Processamento de Linguagens**,\n",
        "ano Letivo 2022/23 , 3º ano de LEI\n",
        "\n",
        "Relativos à 1º parte do programa: Filtros de Texto baseados em ER\n",
        "**texto em negrito**"
      ]
    },
    {
      "cell_type": "markdown",
      "metadata": {
        "id": "0JpXqXdRLYK6"
      },
      "source": [
        "# TPC1: Análise de dados: doença cardíaca\n",
        "(publicado em **2023.02.14**)\n",
        "\n",
        "Descarregue o ficheiro de dados: `myheart.csv`\n",
        "Crie um programa em Python, conjunto de funções, que responda às seguintes questões:\n",
        "* Crie uma função que lê a informação do ficheiro para um modelo, previamente pensado em memória;\n",
        "* Pense num modelo para guardar uma distribuição;\n",
        "* Crie uma função que calcula a distribuição da doença por sexo;\n",
        "* Crie uma função que calcula a distribuição da doença por escalões etários. Considere os seguintes escalões: [30-34], [35-39], [40-44], ...\n",
        "* Crie uma função que calcula a distribuição da doença por níveis de colesterol. Considere um nível igual a um intervalo de 10 unidades, comece no limite inferior e crie os níveis necessários até abranger o limite superior;\n",
        "* Crie uma função que imprime na forma de uma tabela uma distribuição;\n",
        "* Especifique um programa que ao executar apresenta as tabelas correspondentes às distribuições pedidas;\n",
        "* Extra: explore o módulo matplotlib e crie gráficos para as suas distribuições."
      ]
    },
    {
      "cell_type": "markdown",
      "metadata": {
        "id": "BiWweXOrShgJ"
      },
      "source": [
        "# TPC2: Somador on/off\n",
        "\n",
        "(publicado em **2023.02.21**)\n",
        "\n",
        "Crie um programa em Python que tenha o seguinte comportamento:\n",
        "\n",
        "  * Pretende-se um programa que some todas as sequências de dígitos que encontre num texto;\n",
        "  * Prepare o programa para ler o texto do canal de entrada: stdin;\n",
        "  * Sempre que encontrar a string “Off” em qualquer combinação de maiúsculas e minúsculas, esse comportamento é desligado;\n",
        "  * Sempre que encontrar a string “On” em qualquer combinação de maiúsculas e minúsculas, esse comportamento é novamente ligado;\n",
        "  * Sempre que encontrar o caráter “=”, o resultado da soma é colocado na saída.\n"
      ]
    },
    {
      "attachments": {},
      "cell_type": "markdown",
      "metadata": {
        "id": "SN6uHpnNH5w4"
      },
      "source": [
        "# TPC3: Processador de Pessoas listadas nos Róis de Confessados\n",
        "\n",
        "(publicado em **2023.02.28**)\n",
        "\n",
        "Construa agora um ou vários programas Python\n",
        "para  processar o texto 'processos.txt' (procurar o ficheiro no Bb) com o intuito de\n",
        "calcular frequências de alguns elementos (a ideia é utilizar arrays associativos, dicionários em Python,\n",
        "para o efeito) conforme solicitado a seguir:\n",
        "\n",
        "> a) Calcula a frequência de processos por ano (primeiro elemento da data);\n",
        "\n",
        "> b) Calcula a frequência de nomes próprios (o primeiro em cada nome) e apelidos (o ultimo em cada nome) por séculos e apresenta os 5 mais usados;\n",
        "\n",
        "> c) Calcula a frequência dos vários tipos de relação: irmão, sobrinho, etc.;\n",
        "\n",
        "> d) Converta os 20 primeiros registos num novo ficheiro de output mas em formato **Json**.\n",
        "\n",
        "\n"
      ]
    }
  ],
  "metadata": {
    "colab": {
      "provenance": []
    },
    "kernelspec": {
      "display_name": "Python 3",
      "language": "python",
      "name": "python3"
    },
    "language_info": {
      "name": "python",
      "version": "3.11.2"
    },
    "vscode": {
      "interpreter": {
        "hash": "aee8b7b246df8f9039afb4144a1f6fd8d2ca17a180786b69acc140d282b71a49"
      }
    }
  },
  "nbformat": 4,
  "nbformat_minor": 0
}
